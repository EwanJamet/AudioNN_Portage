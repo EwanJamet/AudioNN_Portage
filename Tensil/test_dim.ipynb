{
 "cells": [
  {
   "cell_type": "code",
   "execution_count": 3,
   "metadata": {},
   "outputs": [
    {
     "name": "stderr",
     "output_type": "stream",
     "text": [
      "/usr/local/lib/python3.10/dist-packages/tqdm/auto.py:21: TqdmWarning: IProgress not found. Please update jupyter and ipywidgets. See https://ipywidgets.readthedocs.io/en/stable/user_install.html\n",
      "  from .autonotebook import tqdm as notebook_tqdm\n"
     ]
    }
   ],
   "source": [
    "import torch\n",
    "import torch.nn as nn\n",
    "import torch.nn.functional as F"
   ]
  },
  {
   "cell_type": "code",
   "execution_count": 4,
   "metadata": {},
   "outputs": [],
   "source": [
    "def init_layer(layer):\n",
    "    \"\"\"Initialize a Linear or Convolutional layer. \"\"\"\n",
    "    nn.init.xavier_uniform_(layer.weight)\n",
    " \n",
    "    if hasattr(layer, 'bias'):\n",
    "        if layer.bias is not None:\n",
    "            layer.bias.data.fill_(0.)\n",
    "            \n",
    "    \n",
    "def init_bn(bn):\n",
    "    \"\"\"Initialize a Batchnorm layer. \"\"\"\n",
    "    bn.bias.data.fill_(0.)\n",
    "    bn.weight.data.fill_(1.)\n",
    "\n",
    "\n",
    "class MobileNetTensil(nn.Module):\n",
    "    def __init__(self,  classes_num):\n",
    "        \n",
    "        super(MobileNetTensil, self).__init__()\n",
    "\n",
    "        self.bn0 = nn.BatchNorm2d(64)\n",
    "\n",
    "        def conv_bn(inp, oup, stride):\n",
    "            _layers = [\n",
    "                nn.Conv2d(inp, oup, 3, 1, 1, bias=False), \n",
    "                nn.AvgPool2d(stride), \n",
    "                nn.BatchNorm2d(oup), \n",
    "                nn.ReLU(inplace=True)\n",
    "                ]\n",
    "            _layers = nn.Sequential(*_layers)\n",
    "            init_layer(_layers[0])\n",
    "            init_bn(_layers[2])\n",
    "            return _layers\n",
    "\n",
    "        def conv_dw(inp, oup, stride):\n",
    "            _layers = [\n",
    "                nn.Conv2d(inp, inp, 3, 1, 1, groups=inp, bias=False), \n",
    "                nn.AvgPool2d(stride), \n",
    "                nn.BatchNorm2d(inp), \n",
    "                nn.ReLU(inplace=True), \n",
    "                nn.Conv2d(inp, oup, 1, 1, 0, bias=False), \n",
    "                nn.BatchNorm2d(oup), \n",
    "                nn.ReLU(inplace=True)\n",
    "                ]\n",
    "            _layers = nn.Sequential(*_layers)\n",
    "            init_layer(_layers[0])\n",
    "            init_bn(_layers[2])\n",
    "            init_layer(_layers[4])\n",
    "            init_bn(_layers[5])\n",
    "            return _layers\n",
    "\n",
    "        self.features = nn.Sequential(\n",
    "            conv_bn(  1,  32, 2), \n",
    "            conv_dw( 32,  64, 1),\n",
    "            conv_dw( 64, 128, 2),\n",
    "            conv_dw(128, 128, 1),\n",
    "            conv_dw(128, 256, 2),\n",
    "            conv_dw(256, 256, 1),\n",
    "            conv_dw(256, 512, 2),\n",
    "            conv_dw(512, 512, 1),\n",
    "            conv_dw(512, 512, 1),\n",
    "            conv_dw(512, 512, 1),\n",
    "            conv_dw(512, 512, 1),\n",
    "            conv_dw(512, 512, 1),\n",
    "            conv_dw(512, 1024, 2),\n",
    "            conv_dw(1024, 1024, 1))\n",
    "\n",
    "        self.fc1 = nn.Linear(1024, 1024, bias=True)\n",
    "        self.fc_audioset = nn.Linear(1024, classes_num, bias=True)\n",
    "\n",
    "        self.init_weights()\n",
    "\n",
    "    def init_weights(self):\n",
    "        init_bn(self.bn0)\n",
    "        init_layer(self.fc1)\n",
    "        init_layer(self.fc_audioset)\n",
    " \n",
    "    def forward(self, input, mixup_lambda=None):\n",
    "        \"\"\"\n",
    "        Input: (batch_size, data_length)\"\"\"\n",
    "\n",
    "        \n",
    "        x = input.transpose(1, 3)\n",
    "        x = self.bn0(x)\n",
    "        x = x.transpose(1, 3)\n",
    "        \n",
    "        x = self.features(x)\n",
    "        \n",
    "        print(\"x_dim=\",x.shape)\n",
    "        \n",
    "        x = torch.mean(x, dim=3)\n",
    "        \n",
    "        (x1, _) = torch.max(x, dim=2)\n",
    "        x2 = torch.mean(x, dim=2)\n",
    "        x = x1 + x2\n",
    "        x = F.relu_(self.fc1(x))\n",
    "        clipwise_output = torch.sigmoid(self.fc_audioset(x))\n",
    "        \n",
    "        output_dict = {'clipwise_output': clipwise_output}\n",
    "\n",
    "        return output_dict\n",
    "      "
   ]
  },
  {
   "cell_type": "code",
   "execution_count": 6,
   "metadata": {},
   "outputs": [
    {
     "name": "stdout",
     "output_type": "stream",
     "text": [
      "x_dim= torch.Size([1, 1024, 21, 2])\n"
     ]
    }
   ],
   "source": [
    "model = MobileNetTensil(512)\n",
    "model.eval()\n",
    "x = torch.randn(1,1,701, 64, device=\"cpu\")\n",
    "output = model(x)\n"
   ]
  }
 ],
 "metadata": {
  "kernelspec": {
   "display_name": "Python 3",
   "language": "python",
   "name": "python3"
  },
  "language_info": {
   "codemirror_mode": {
    "name": "ipython",
    "version": 3
   },
   "file_extension": ".py",
   "mimetype": "text/x-python",
   "name": "python",
   "nbconvert_exporter": "python",
   "pygments_lexer": "ipython3",
   "version": "3.10.12"
  }
 },
 "nbformat": 4,
 "nbformat_minor": 2
}
